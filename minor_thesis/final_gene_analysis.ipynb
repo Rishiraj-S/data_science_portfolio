{
 "cells": [
  {
   "cell_type": "code",
   "execution_count": 1,
   "id": "579f8fad",
   "metadata": {},
   "outputs": [],
   "source": [
    "import pandas as pd\n",
    "import numpy as np\n",
    "import matplotlib.pyplot as plt\n",
    "import seaborn as sns\n",
    "import re\n",
    "import ast\n",
    "from sklearn.svm import SVR\n",
    "from sklearn.model_selection import KFold, RandomizedSearchCV, GridSearchCV, train_test_split, cross_val_score\n",
    "from sklearn.inspection import permutation_importance\n",
    "from bayes_opt import BayesianOptimization\n",
    "from sklearn.metrics import make_scorer, mean_squared_error"
   ]
  },
  {
   "cell_type": "code",
   "execution_count": 2,
   "id": "1976f14d",
   "metadata": {},
   "outputs": [],
   "source": [
    "# reading from the csv where iteration results were stored\n",
    "df = pd.read_csv(\"./bootstrap_final.csv\")"
   ]
  },
  {
   "cell_type": "code",
   "execution_count": 3,
   "id": "40c160db",
   "metadata": {},
   "outputs": [
    {
     "data": {
      "text/html": [
       "<div>\n",
       "<style scoped>\n",
       "    .dataframe tbody tr th:only-of-type {\n",
       "        vertical-align: middle;\n",
       "    }\n",
       "\n",
       "    .dataframe tbody tr th {\n",
       "        vertical-align: top;\n",
       "    }\n",
       "\n",
       "    .dataframe thead th {\n",
       "        text-align: right;\n",
       "    }\n",
       "</style>\n",
       "<table border=\"1\" class=\"dataframe\">\n",
       "  <thead>\n",
       "    <tr style=\"text-align: right;\">\n",
       "      <th></th>\n",
       "      <th>Best Model</th>\n",
       "      <th>Best Model Forward Features</th>\n",
       "      <th>Best Model Backward Features</th>\n",
       "      <th>Best Model Score</th>\n",
       "    </tr>\n",
       "  </thead>\n",
       "  <tbody>\n",
       "    <tr>\n",
       "      <th>0</th>\n",
       "      <td>SVM</td>\n",
       "      <td>(Index(['Q96NB2', 'Q96D96', 'Q01813', 'Q8NCN4'...</td>\n",
       "      <td>Index(['Q8WWH5', 'Q8NFD5', 'Q8TAE8', 'O60716',...</td>\n",
       "      <td>0.554176</td>\n",
       "    </tr>\n",
       "    <tr>\n",
       "      <th>1</th>\n",
       "      <td>SVM</td>\n",
       "      <td>(Index(['Q9H3U1', 'Q8TAE8', 'Q9H477', 'Q16643'...</td>\n",
       "      <td>Index(['Q9BQE4', 'Q5VSL9', 'Q15063', 'O15269',...</td>\n",
       "      <td>0.654058</td>\n",
       "    </tr>\n",
       "    <tr>\n",
       "      <th>2</th>\n",
       "      <td>SVM</td>\n",
       "      <td>(Index(['Q8WUQ7', 'Q8WVQ1', 'Q8N0Z6', 'P08559'...</td>\n",
       "      <td>Index(['Q9Y4H2', 'Q6SPF0', 'Q6P2E9', 'O15357',...</td>\n",
       "      <td>0.513088</td>\n",
       "    </tr>\n",
       "    <tr>\n",
       "      <th>3</th>\n",
       "      <td>SVM</td>\n",
       "      <td>(Index(['Q8WUQ7', 'Q15063', 'Q8N1S5', 'P49006'...</td>\n",
       "      <td>Index(['Q96JP5', 'Q8WUQ7', 'O94826', 'P49006',...</td>\n",
       "      <td>0.573736</td>\n",
       "    </tr>\n",
       "    <tr>\n",
       "      <th>4</th>\n",
       "      <td>SVM</td>\n",
       "      <td>(Index(['P58107', 'Q8N1S5', 'P13995', 'Q7Z7L1'...</td>\n",
       "      <td>Index(['Q14498', 'Q8N1S5', 'P09327', 'P13796',...</td>\n",
       "      <td>0.555723</td>\n",
       "    </tr>\n",
       "  </tbody>\n",
       "</table>\n",
       "</div>"
      ],
      "text/plain": [
       "  Best Model                        Best Model Forward Features  \\\n",
       "0        SVM  (Index(['Q96NB2', 'Q96D96', 'Q01813', 'Q8NCN4'...   \n",
       "1        SVM  (Index(['Q9H3U1', 'Q8TAE8', 'Q9H477', 'Q16643'...   \n",
       "2        SVM  (Index(['Q8WUQ7', 'Q8WVQ1', 'Q8N0Z6', 'P08559'...   \n",
       "3        SVM  (Index(['Q8WUQ7', 'Q15063', 'Q8N1S5', 'P49006'...   \n",
       "4        SVM  (Index(['P58107', 'Q8N1S5', 'P13995', 'Q7Z7L1'...   \n",
       "\n",
       "                        Best Model Backward Features  Best Model Score  \n",
       "0  Index(['Q8WWH5', 'Q8NFD5', 'Q8TAE8', 'O60716',...          0.554176  \n",
       "1  Index(['Q9BQE4', 'Q5VSL9', 'Q15063', 'O15269',...          0.654058  \n",
       "2  Index(['Q9Y4H2', 'Q6SPF0', 'Q6P2E9', 'O15357',...          0.513088  \n",
       "3  Index(['Q96JP5', 'Q8WUQ7', 'O94826', 'P49006',...          0.573736  \n",
       "4  Index(['Q14498', 'Q8N1S5', 'P09327', 'P13796',...          0.555723  "
      ]
     },
     "execution_count": 3,
     "metadata": {},
     "output_type": "execute_result"
    }
   ],
   "source": [
    "df.head()"
   ]
  },
  {
   "cell_type": "code",
   "execution_count": 4,
   "id": "c9d9d5ad",
   "metadata": {},
   "outputs": [
    {
     "name": "stdout",
     "output_type": "stream",
     "text": [
      "<class 'pandas.core.frame.DataFrame'>\n",
      "RangeIndex: 1020 entries, 0 to 1019\n",
      "Data columns (total 4 columns):\n",
      " #   Column                        Non-Null Count  Dtype  \n",
      "---  ------                        --------------  -----  \n",
      " 0   Best Model                    1020 non-null   object \n",
      " 1   Best Model Forward Features   1020 non-null   object \n",
      " 2   Best Model Backward Features  1020 non-null   object \n",
      " 3   Best Model Score              1020 non-null   float64\n",
      "dtypes: float64(1), object(3)\n",
      "memory usage: 32.0+ KB\n"
     ]
    }
   ],
   "source": [
    "df.info()"
   ]
  },
  {
   "cell_type": "code",
   "execution_count": 5,
   "id": "60cbefda",
   "metadata": {},
   "outputs": [],
   "source": [
    "forward_list = []\n",
    "# Converting string into a list\n",
    "for i in df['Best Model Forward Features']:\n",
    "    x = ast.literal_eval(i[7:-25])\n",
    "    forward_list.append(x)\n",
    "    \n",
    "df['Best Model Forward Features'] = forward_list"
   ]
  },
  {
   "cell_type": "code",
   "execution_count": 6,
   "id": "eed3f487",
   "metadata": {},
   "outputs": [],
   "source": [
    "backward_list = []\n",
    "# Converting string into a list\n",
    "for i in df['Best Model Backward Features']:\n",
    "    x = ast.literal_eval(i[6:-23])\n",
    "    backward_list.append(x)\n",
    "    \n",
    "df['Best Model Backward Features'] = backward_list"
   ]
  },
  {
   "cell_type": "code",
   "execution_count": 7,
   "id": "75201324",
   "metadata": {},
   "outputs": [
    {
     "data": {
      "text/html": [
       "<div>\n",
       "<style scoped>\n",
       "    .dataframe tbody tr th:only-of-type {\n",
       "        vertical-align: middle;\n",
       "    }\n",
       "\n",
       "    .dataframe tbody tr th {\n",
       "        vertical-align: top;\n",
       "    }\n",
       "\n",
       "    .dataframe thead th {\n",
       "        text-align: right;\n",
       "    }\n",
       "</style>\n",
       "<table border=\"1\" class=\"dataframe\">\n",
       "  <thead>\n",
       "    <tr style=\"text-align: right;\">\n",
       "      <th></th>\n",
       "      <th>Best Model</th>\n",
       "      <th>Best Model Forward Features</th>\n",
       "      <th>Best Model Backward Features</th>\n",
       "      <th>Best Model Score</th>\n",
       "    </tr>\n",
       "  </thead>\n",
       "  <tbody>\n",
       "    <tr>\n",
       "      <th>0</th>\n",
       "      <td>SVM</td>\n",
       "      <td>[Q96NB2, Q96D96, Q01813, Q8NCN4, Q86TC9, Q96FQ...</td>\n",
       "      <td>[Q8WWH5, Q8NFD5, Q8TAE8, O60716, O14981, Q9NVC...</td>\n",
       "      <td>0.554176</td>\n",
       "    </tr>\n",
       "    <tr>\n",
       "      <th>1</th>\n",
       "      <td>SVM</td>\n",
       "      <td>[Q9H3U1, Q8TAE8, Q9H477, Q16643, P14555, P1785...</td>\n",
       "      <td>[Q9BQE4, Q5VSL9, Q15063, O15269, Q9NVC6, O4383...</td>\n",
       "      <td>0.654058</td>\n",
       "    </tr>\n",
       "    <tr>\n",
       "      <th>2</th>\n",
       "      <td>SVM</td>\n",
       "      <td>[Q8WUQ7, Q8WVQ1, Q8N0Z6, P08559, P19404, Q7Z7L...</td>\n",
       "      <td>[Q9Y4H2, Q6SPF0, Q6P2E9, O15357, P35221, Q8N0Z...</td>\n",
       "      <td>0.513088</td>\n",
       "    </tr>\n",
       "    <tr>\n",
       "      <th>3</th>\n",
       "      <td>SVM</td>\n",
       "      <td>[Q8WUQ7, Q15063, Q8N1S5, P49006, O43837, Q9BUH...</td>\n",
       "      <td>[Q96JP5, Q8WUQ7, O94826, P49006, Q01813, P5381...</td>\n",
       "      <td>0.573736</td>\n",
       "    </tr>\n",
       "    <tr>\n",
       "      <th>4</th>\n",
       "      <td>SVM</td>\n",
       "      <td>[P58107, Q8N1S5, P13995, Q7Z7L1, P13796, Q53G4...</td>\n",
       "      <td>[Q14498, Q8N1S5, P09327, P13796, Q53G44, Q9H0R...</td>\n",
       "      <td>0.555723</td>\n",
       "    </tr>\n",
       "  </tbody>\n",
       "</table>\n",
       "</div>"
      ],
      "text/plain": [
       "  Best Model                        Best Model Forward Features  \\\n",
       "0        SVM  [Q96NB2, Q96D96, Q01813, Q8NCN4, Q86TC9, Q96FQ...   \n",
       "1        SVM  [Q9H3U1, Q8TAE8, Q9H477, Q16643, P14555, P1785...   \n",
       "2        SVM  [Q8WUQ7, Q8WVQ1, Q8N0Z6, P08559, P19404, Q7Z7L...   \n",
       "3        SVM  [Q8WUQ7, Q15063, Q8N1S5, P49006, O43837, Q9BUH...   \n",
       "4        SVM  [P58107, Q8N1S5, P13995, Q7Z7L1, P13796, Q53G4...   \n",
       "\n",
       "                        Best Model Backward Features  Best Model Score  \n",
       "0  [Q8WWH5, Q8NFD5, Q8TAE8, O60716, O14981, Q9NVC...          0.554176  \n",
       "1  [Q9BQE4, Q5VSL9, Q15063, O15269, Q9NVC6, O4383...          0.654058  \n",
       "2  [Q9Y4H2, Q6SPF0, Q6P2E9, O15357, P35221, Q8N0Z...          0.513088  \n",
       "3  [Q96JP5, Q8WUQ7, O94826, P49006, Q01813, P5381...          0.573736  \n",
       "4  [Q14498, Q8N1S5, P09327, P13796, Q53G44, Q9H0R...          0.555723  "
      ]
     },
     "execution_count": 7,
     "metadata": {},
     "output_type": "execute_result"
    }
   ],
   "source": [
    "df.head()"
   ]
  },
  {
   "cell_type": "code",
   "execution_count": 8,
   "id": "54fc9563",
   "metadata": {},
   "outputs": [],
   "source": [
    "total_forward_features = []\n",
    "# Appending all forward features to a single list\n",
    "for i in df['Best Model Forward Features']:\n",
    "    total_forward_features+=i"
   ]
  },
  {
   "cell_type": "code",
   "execution_count": 9,
   "id": "9addbdc9",
   "metadata": {},
   "outputs": [
    {
     "data": {
      "text/plain": [
       "20400"
      ]
     },
     "execution_count": 9,
     "metadata": {},
     "output_type": "execute_result"
    }
   ],
   "source": [
    "len(total_forward_features)"
   ]
  },
  {
   "cell_type": "code",
   "execution_count": 10,
   "id": "71232f04",
   "metadata": {},
   "outputs": [],
   "source": [
    "total_backward_features = []\n",
    "# Appending all backward features to a single list\n",
    "for i in df['Best Model Backward Features']:\n",
    "    total_backward_features+=i"
   ]
  },
  {
   "cell_type": "code",
   "execution_count": 11,
   "id": "22e40f81",
   "metadata": {},
   "outputs": [],
   "source": [
    "# Appending all features to a single list\n",
    "total_features = total_backward_features+total_forward_features"
   ]
  },
  {
   "cell_type": "code",
   "execution_count": 12,
   "id": "5bf4effb",
   "metadata": {},
   "outputs": [],
   "source": [
    "# Making a dictionary out of the list with distinct protein names and corresponding frequencies of them occuring in the list\n",
    "frequency_dict = {item: total_features.count(item) for item in set(total_features)}"
   ]
  },
  {
   "cell_type": "code",
   "execution_count": 13,
   "id": "74382ee3",
   "metadata": {},
   "outputs": [],
   "source": [
    "# Sorting the dictionary by their values (frequencies)\n",
    "sorted_dict = {k: v for k, v in sorted(frequency_dict.items(), key=lambda item: item[1], reverse=True)}"
   ]
  },
  {
   "cell_type": "code",
   "execution_count": 14,
   "id": "4903ac09",
   "metadata": {},
   "outputs": [
    {
     "data": {
      "text/plain": [
       "417"
      ]
     },
     "execution_count": 14,
     "metadata": {},
     "output_type": "execute_result"
    }
   ],
   "source": [
    "len(sorted_dict)"
   ]
  },
  {
   "cell_type": "code",
   "execution_count": 15,
   "id": "2031d3f6",
   "metadata": {},
   "outputs": [
    {
     "data": {
      "image/png": "[encoded data removed]",
      "text/plain": [
       "<Figure size 1500x1000 with 1 Axes>"
      ]
     },
     "metadata": {},
     "output_type": "display_data"
    }
   ],
   "source": [
    "# Unpacking keys and values\n",
    "keys, values = zip(*sorted_dict.items())\n",
    "\n",
    "# Plotting\n",
    "plt.figure(figsize=(15, 10))\n",
    "plt.barh(keys[:50], values[:50], color='skyblue')\n",
    "plt.ylabel('Protein names')\n",
    "plt.xlabel('Frequency')\n",
    "plt.title('Frequency of the proteins')\n",
    "plt.xticks(rotation=90)\n",
    "plt.show()\n"
   ]
  },
  {
   "cell_type": "code",
   "execution_count": 16,
   "id": "d4eb2164",
   "metadata": {},
   "outputs": [],
   "source": [
    "# Reading the Cancer Cell Line dataset to get the protein and gene names to match with our analysis data\n",
    "df_ccle = pd.read_excel(\"Table_S2_Protein_Quant_Normalized.xlsx\", sheet_name = 1)"
   ]
  },
  {
   "cell_type": "code",
   "execution_count": 17,
   "id": "4f289cf5",
   "metadata": {},
   "outputs": [],
   "source": [
    "prot_gene_df = df_ccle[['Gene_Symbol','Description','Uniprot','Uniprot_Acc']]"
   ]
  },
  {
   "cell_type": "code",
   "execution_count": 18,
   "id": "ce91ef42",
   "metadata": {},
   "outputs": [],
   "source": [
    "# Making a df which is an intersection of all the genes relevant to breast cancer and the proteins found from our iterations\n",
    "df_analysis = prot_gene_df[(prot_gene_df['Uniprot_Acc'].isin(keys))] # & (prot_gene_df['Gene_Symbol'].isin(bc_gene_list))"
   ]
  },
  {
   "cell_type": "code",
   "execution_count": 19,
   "id": "f4faef24",
   "metadata": {},
   "outputs": [
    {
     "name": "stderr",
     "output_type": "stream",
     "text": [
      "C:\\Users\\rishi\\AppData\\Local\\Temp\\ipykernel_15204\\3915828576.py:2: SettingWithCopyWarning: \n",
      "A value is trying to be set on a copy of a slice from a DataFrame.\n",
      "Try using .loc[row_indexer,col_indexer] = value instead\n",
      "\n",
      "See the caveats in the documentation: https://pandas.pydata.org/pandas-docs/stable/user_guide/indexing.html#returning-a-view-versus-a-copy\n",
      "  df_analysis['frequency'] = df_analysis['Uniprot_Acc'].map(sorted_dict)\n"
     ]
    }
   ],
   "source": [
    "# Extract common items and their values from the dictionary\n",
    "df_analysis['frequency'] = df_analysis['Uniprot_Acc'].map(sorted_dict)"
   ]
  },
  {
   "cell_type": "code",
   "execution_count": 20,
   "id": "abd330a6",
   "metadata": {},
   "outputs": [
    {
     "data": {
      "text/html": [
       "<div>\n",
       "<style scoped>\n",
       "    .dataframe tbody tr th:only-of-type {\n",
       "        vertical-align: middle;\n",
       "    }\n",
       "\n",
       "    .dataframe tbody tr th {\n",
       "        vertical-align: top;\n",
       "    }\n",
       "\n",
       "    .dataframe thead th {\n",
       "        text-align: right;\n",
       "    }\n",
       "</style>\n",
       "<table border=\"1\" class=\"dataframe\">\n",
       "  <thead>\n",
       "    <tr style=\"text-align: right;\">\n",
       "      <th></th>\n",
       "      <th>Gene_Symbol</th>\n",
       "      <th>Description</th>\n",
       "      <th>Uniprot</th>\n",
       "      <th>Uniprot_Acc</th>\n",
       "      <th>frequency</th>\n",
       "    </tr>\n",
       "  </thead>\n",
       "  <tbody>\n",
       "    <tr>\n",
       "      <th>14</th>\n",
       "      <td>SRP14</td>\n",
       "      <td>SRP14_HUMAN Signal recognition particle 14 kDa...</td>\n",
       "      <td>SRP14_HUMAN</td>\n",
       "      <td>P37108</td>\n",
       "      <td>95</td>\n",
       "    </tr>\n",
       "    <tr>\n",
       "      <th>18</th>\n",
       "      <td>NUP133</td>\n",
       "      <td>NU133_HUMAN Nuclear pore complex protein Nup133</td>\n",
       "      <td>NU133_HUMAN</td>\n",
       "      <td>Q8WUM0</td>\n",
       "      <td>98</td>\n",
       "    </tr>\n",
       "    <tr>\n",
       "      <th>20</th>\n",
       "      <td>IRS2</td>\n",
       "      <td>IRS2_HUMAN Insulin receptor substrate 2</td>\n",
       "      <td>IRS2_HUMAN</td>\n",
       "      <td>Q9Y4H2</td>\n",
       "      <td>180</td>\n",
       "    </tr>\n",
       "    <tr>\n",
       "      <th>21</th>\n",
       "      <td>RPL4</td>\n",
       "      <td>RL4_HUMAN 60S ribosomal protein L4</td>\n",
       "      <td>RL4_HUMAN</td>\n",
       "      <td>P36578</td>\n",
       "      <td>81</td>\n",
       "    </tr>\n",
       "    <tr>\n",
       "      <th>33</th>\n",
       "      <td>SAMD1</td>\n",
       "      <td>SAMD1_HUMAN Atherin</td>\n",
       "      <td>SAMD1_HUMAN</td>\n",
       "      <td>Q6SPF0</td>\n",
       "      <td>103</td>\n",
       "    </tr>\n",
       "  </tbody>\n",
       "</table>\n",
       "</div>"
      ],
      "text/plain": [
       "   Gene_Symbol                                        Description  \\\n",
       "14       SRP14  SRP14_HUMAN Signal recognition particle 14 kDa...   \n",
       "18      NUP133    NU133_HUMAN Nuclear pore complex protein Nup133   \n",
       "20        IRS2            IRS2_HUMAN Insulin receptor substrate 2   \n",
       "21        RPL4                 RL4_HUMAN 60S ribosomal protein L4   \n",
       "33       SAMD1                                SAMD1_HUMAN Atherin   \n",
       "\n",
       "        Uniprot Uniprot_Acc  frequency  \n",
       "14  SRP14_HUMAN      P37108         95  \n",
       "18  NU133_HUMAN      Q8WUM0         98  \n",
       "20   IRS2_HUMAN      Q9Y4H2        180  \n",
       "21    RL4_HUMAN      P36578         81  \n",
       "33  SAMD1_HUMAN      Q6SPF0        103  "
      ]
     },
     "execution_count": 20,
     "metadata": {},
     "output_type": "execute_result"
    }
   ],
   "source": [
    "df_analysis.head()"
   ]
  },
  {
   "cell_type": "code",
   "execution_count": 21,
   "id": "3d732b9d",
   "metadata": {},
   "outputs": [
    {
     "name": "stdout",
     "output_type": "stream",
     "text": [
      "Number of unique values in ID: 363\n"
     ]
    }
   ],
   "source": [
    "print(f'Number of unique values in ID: {df_analysis[\"Uniprot_Acc\"].nunique()}')"
   ]
  },
  {
   "cell_type": "code",
   "execution_count": 22,
   "id": "79942689",
   "metadata": {},
   "outputs": [],
   "source": [
    "# Sorting df by frequency\n",
    "df_analysis = df_analysis.sort_values(by='frequency', ascending=False)\n",
    "df_analysis.reset_index(inplace=True, drop=True)"
   ]
  },
  {
   "cell_type": "code",
   "execution_count": 23,
   "id": "1b183bac",
   "metadata": {},
   "outputs": [
    {
     "data": {
      "text/html": [
       "<div>\n",
       "<style scoped>\n",
       "    .dataframe tbody tr th:only-of-type {\n",
       "        vertical-align: middle;\n",
       "    }\n",
       "\n",
       "    .dataframe tbody tr th {\n",
       "        vertical-align: top;\n",
       "    }\n",
       "\n",
       "    .dataframe thead th {\n",
       "        text-align: right;\n",
       "    }\n",
       "</style>\n",
       "<table border=\"1\" class=\"dataframe\">\n",
       "  <thead>\n",
       "    <tr style=\"text-align: right;\">\n",
       "      <th></th>\n",
       "      <th>Gene_Symbol</th>\n",
       "      <th>Description</th>\n",
       "      <th>Uniprot</th>\n",
       "      <th>Uniprot_Acc</th>\n",
       "      <th>frequency</th>\n",
       "    </tr>\n",
       "  </thead>\n",
       "  <tbody>\n",
       "    <tr>\n",
       "      <th>0</th>\n",
       "      <td>TPRN</td>\n",
       "      <td>TPRN_HUMAN Taperin</td>\n",
       "      <td>TPRN_HUMAN</td>\n",
       "      <td>Q4KMQ1</td>\n",
       "      <td>221</td>\n",
       "    </tr>\n",
       "    <tr>\n",
       "      <th>1</th>\n",
       "      <td>TAGLN</td>\n",
       "      <td>TAGL_HUMAN Transgelin</td>\n",
       "      <td>TAGL_HUMAN</td>\n",
       "      <td>Q01995</td>\n",
       "      <td>217</td>\n",
       "    </tr>\n",
       "    <tr>\n",
       "      <th>2</th>\n",
       "      <td>PLA2G2A</td>\n",
       "      <td>PA2GA_HUMAN Phospholipase A2, membrane associated</td>\n",
       "      <td>PA2GA_HUMAN</td>\n",
       "      <td>P14555</td>\n",
       "      <td>205</td>\n",
       "    </tr>\n",
       "    <tr>\n",
       "      <th>3</th>\n",
       "      <td>C9orf142</td>\n",
       "      <td>CI142_HUMAN Uncharacterized protein C9orf142</td>\n",
       "      <td>CI142_HUMAN</td>\n",
       "      <td>Q9BUH6</td>\n",
       "      <td>200</td>\n",
       "    </tr>\n",
       "    <tr>\n",
       "      <th>4</th>\n",
       "      <td>ALDH2</td>\n",
       "      <td>ALDH2_HUMAN Aldehyde dehydrogenase, mitochondrial</td>\n",
       "      <td>ALDH2_HUMAN</td>\n",
       "      <td>P05091</td>\n",
       "      <td>199</td>\n",
       "    </tr>\n",
       "  </tbody>\n",
       "</table>\n",
       "</div>"
      ],
      "text/plain": [
       "  Gene_Symbol                                        Description      Uniprot  \\\n",
       "0        TPRN                                 TPRN_HUMAN Taperin   TPRN_HUMAN   \n",
       "1       TAGLN                              TAGL_HUMAN Transgelin   TAGL_HUMAN   \n",
       "2     PLA2G2A  PA2GA_HUMAN Phospholipase A2, membrane associated  PA2GA_HUMAN   \n",
       "3    C9orf142       CI142_HUMAN Uncharacterized protein C9orf142  CI142_HUMAN   \n",
       "4       ALDH2  ALDH2_HUMAN Aldehyde dehydrogenase, mitochondrial  ALDH2_HUMAN   \n",
       "\n",
       "  Uniprot_Acc  frequency  \n",
       "0      Q4KMQ1        221  \n",
       "1      Q01995        217  \n",
       "2      P14555        205  \n",
       "3      Q9BUH6        200  \n",
       "4      P05091        199  "
      ]
     },
     "execution_count": 23,
     "metadata": {},
     "output_type": "execute_result"
    }
   ],
   "source": [
    "df_analysis.head()"
   ]
  },
  {
   "cell_type": "code",
   "execution_count": 24,
   "id": "a03bcaf7",
   "metadata": {},
   "outputs": [],
   "source": [
    "df_analysis = df_analysis[df_analysis['frequency']>150]"
   ]
  },
  {
   "cell_type": "code",
   "execution_count": 25,
   "id": "26fd3c36",
   "metadata": {},
   "outputs": [],
   "source": [
    "gene_list = list(df_analysis['Gene_Symbol'])"
   ]
  },
  {
   "cell_type": "code",
   "execution_count": 26,
   "id": "655b9006",
   "metadata": {},
   "outputs": [
    {
     "data": {
      "text/plain": [
       "50"
      ]
     },
     "execution_count": 26,
     "metadata": {},
     "output_type": "execute_result"
    }
   ],
   "source": [
    "len(gene_list)"
   ]
  },
  {
   "cell_type": "code",
   "execution_count": 27,
   "id": "4f7d7ce5",
   "metadata": {},
   "outputs": [],
   "source": [
    "gene_df = pd.DataFrame(gene_list)"
   ]
  },
  {
   "cell_type": "code",
   "execution_count": null,
   "id": "afec9a39",
   "metadata": {},
   "outputs": [],
   "source": [
    "# Write the DataFrame to a CSV file\n",
    "gene_df.to_csv('./final_gene.csv', index=False)"
   ]
  },
  {
   "cell_type": "code",
   "execution_count": null,
   "id": "c2facf27",
   "metadata": {},
   "outputs": [],
   "source": [
    "df_analysis.head()"
   ]
  },
  {
   "cell_type": "code",
   "execution_count": null,
   "id": "1ad10dd0",
   "metadata": {},
   "outputs": [],
   "source": []
  }
 ],
 "metadata": {
  "kernelspec": {
   "display_name": "Python 3 (ipykernel)",
   "language": "python",
   "name": "python3"
  },
  "language_info": {
   "codemirror_mode": {
    "name": "ipython",
    "version": 3
   },
   "file_extension": ".py",
   "mimetype": "text/x-python",
   "name": "python",
   "nbconvert_exporter": "python",
   "pygments_lexer": "ipython3",
   "version": "3.11.4"
  }
 },
 "nbformat": 4,
 "nbformat_minor": 5
}
